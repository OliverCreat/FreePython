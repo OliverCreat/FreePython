{
  "nbformat": 4,
  "nbformat_minor": 0,
  "metadata": {
    "colab": {
      "provenance": [],
      "authorship_tag": "ABX9TyOSl2k9ycdOYdo8lvgHoOKi",
      "include_colab_link": true
    },
    "kernelspec": {
      "name": "python3",
      "display_name": "Python 3"
    },
    "language_info": {
      "name": "python"
    }
  },
  "cells": [
    {
      "cell_type": "markdown",
      "metadata": {
        "id": "view-in-github",
        "colab_type": "text"
      },
      "source": [
        "<a href=\"https://colab.research.google.com/github/OliverCreat/FreePython/blob/main/AlgoritmoAula2.ipynb\" target=\"_parent\"><img src=\"https://colab.research.google.com/assets/colab-badge.svg\" alt=\"Open In Colab\"/></a>"
      ]
    },
    {
      "cell_type": "code",
      "execution_count": 5,
      "metadata": {
        "colab": {
          "base_uri": "https://localhost:8080/"
        },
        "id": "BJjUpEdb0W5e",
        "outputId": "ee2a97a9-6206-42a4-be2c-ef423d8e3b2a"
      },
      "outputs": [
        {
          "output_type": "stream",
          "name": "stdout",
          "text": [
            "Digite um número: 6\n",
            "-------------------------------\n",
            "   O fatorial de 6 é: 720\n",
            "-------------------------------\n"
          ]
        }
      ],
      "source": [
        "num = int(input(\"Digite um número: \"))\n",
        "\n",
        "# Código de execução\n",
        "fat = 1\n",
        "for i in range(1, num + 1):\n",
        "    fat *= i\n",
        "\n",
        "# Retorna o resultado\n",
        "print(\"-------------------------------\")\n",
        "print(f\"   O fatorial de {num} é: {fat}\")\n",
        "print(\"-------------------------------\")\n"
      ]
    },
    {
      "cell_type": "code",
      "source": [],
      "metadata": {
        "id": "soCxOj8B9IW3"
      },
      "execution_count": null,
      "outputs": []
    }
  ]
}